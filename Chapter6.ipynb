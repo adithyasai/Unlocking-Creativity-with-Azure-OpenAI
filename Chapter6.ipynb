{
 "cells": [
  {
   "cell_type": "code",
   "execution_count": 1,
   "id": "7da168ee",
   "metadata": {},
   "outputs": [],
   "source": [
    "import pyodbc\n",
    "import pandas as pd\n",
    "from langchain.llms import AzureOpenAI\n",
    "import openai\n",
    "import os\n",
    "from dotenv import load_dotenv\n",
    "from langchain_experimental.agents.agent_toolkits import create_spark_dataframe_agent\n",
    "from langchain_experimental.agents.agent_toolkits import create_pandas_dataframe_agent"
   ]
  },
  {
   "cell_type": "code",
   "execution_count": 2,
   "id": "87da441b",
   "metadata": {},
   "outputs": [
    {
     "data": {
      "text/plain": [
       "True"
      ]
     },
     "execution_count": 2,
     "metadata": {},
     "output_type": "execute_result"
    }
   ],
   "source": [
    "# Azure\n",
    "load_dotenv()\n",
    "\n",
    "OPENAI_API_KEY = os.getenv(\"OPENAI_API_KEY\")\n",
    "OPENAI_DEPLOYMENT_ENDPOINT = os.getenv(\"OPENAI_DEPLOYMENT_ENDPOINT\")\n",
    "OPENAI_DEPLOYMENT_NAME = os.getenv(\"OPENAI_DEPLOYMENT_NAME\")\n",
    "OPENAI_MODEL_NAME = os.getenv(\"OPENAI_MODEL_NAME\")\n",
    "OPENAI_API_VERSION = os.getenv(\"OPENAI_API_VERSION\")\n",
    "OPENAI_DEPLOYMENT_VERSION = os.getenv(\"OPENAI_DEPLOYMENT_VERSION\")\n",
    "\n",
    "server = os.getenv(\"DATABASESERVER\")\n",
    "database = os.getenv(\"DATABASE\") \n",
    "username = os.getenv(\"DATABASEUSERNAME\")  \n",
    "password = os.getenv(\"DATABASEPASSWORD\") \n",
    "\n",
    "#init Azure OpenAI\n",
    "openai.api_type = \"azure\"\n",
    "openai.api_version = OPENAI_DEPLOYMENT_VERSION\n",
    "openai.api_base = OPENAI_DEPLOYMENT_ENDPOINT\n",
    "openai.api_key = OPENAI_API_KEY\n",
    "\n",
    "load_dotenv()"
   ]
  },
  {
   "cell_type": "code",
   "execution_count": 3,
   "id": "25e4c080",
   "metadata": {},
   "outputs": [],
   "source": [
    "connectionString = f'DRIVER={{ODBC Driver 18 for SQL Server}};SERVER={server};DATABASE={database};UID={username};PWD={password};Encrypt=yes;TrustServerCertificate=no;Connection Timeout=30;'\n",
    "\n",
    "cnxn = pyodbc.connect(connectionString) \n",
    "cursor = cnxn.cursor()"
   ]
  },
  {
   "cell_type": "code",
   "execution_count": 4,
   "id": "6d050029",
   "metadata": {},
   "outputs": [
    {
     "name": "stderr",
     "output_type": "stream",
     "text": [
      "C:\\Users\\VBALANTR\\AppData\\Local\\Temp\\ipykernel_25388\\1067220742.py:3: UserWarning: pandas only supports SQLAlchemy connectable (engine/connection) or database string URI or sqlite3 DBAPI2 connection. Other DBAPI2 objects are not tested. Please consider using SQLAlchemy.\n",
      "  df = pd.read_sql(query, cnxn)\n"
     ]
    },
    {
     "name": "stdout",
     "output_type": "stream",
     "text": [
      "   AddressID         AddressLine1 AddressLine2      City     StateProvince  \\\n",
      "0          9    8713 Yosemite Ct.         None   Bothell        Washington   \n",
      "1         11  1318 Lasalle Street         None   Bothell        Washington   \n",
      "2         25     9178 Jumping St.         None    Dallas             Texas   \n",
      "3         28     9228 Via Del Sol         None   Phoenix           Arizona   \n",
      "4         32    26910 Indela Road         None  Montreal            Quebec   \n",
      "5        185      2681 Eagle Peak         None  Bellevue        Washington   \n",
      "6        297      7943 Walnut Ave         None    Renton        Washington   \n",
      "7        445   6388 Lake City Way         None   Burnaby  British Columbia   \n",
      "8        446    52560 Free Street         None   Toronto           Ontario   \n",
      "9        447    22580 Free Street         None   Toronto           Ontario   \n",
      "\n",
      "   CountryRegion PostalCode                               rowguid ModifiedDate  \n",
      "0  United States      98011  268AF621-76D7-4C78-9441-144FD139821A   2006-07-01  \n",
      "1  United States      98011  981B3303-ACA2-49C7-9A96-FB670785B269   2007-04-01  \n",
      "2  United States      75201  C8DF3BD9-48F0-4654-A8DD-14A67A84D3C6   2006-09-01  \n",
      "3  United States      85004  12AE5EE1-FC3E-468B-9B92-3B970B169774   2005-09-01  \n",
      "4         Canada    H1Y 2H5  84A95F62-3AE8-4E7E-BBD5-5A6F00CD982D   2006-08-01  \n",
      "5  United States      98004  7BCCF442-2268-46CC-8472-14C44C14E98C   2006-09-01  \n",
      "6  United States      98055  52410DA4-2778-4B1D-A599-95746625CE6D   2006-08-01  \n",
      "7         Canada    V5A 3A6  53572F25-9133-4A8B-A065-102FF35416EE   2006-09-01  \n",
      "8         Canada    M4B 1V7  801A1DFC-5125-486B-AA84-CCBD2EC57CA4   2005-08-01  \n",
      "9         Canada    M4B 1V7  88CEE379-DBB8-433B-B84E-A35E09435500   2006-08-01  \n"
     ]
    }
   ],
   "source": [
    "# select 10 rows from SQL table to insert in dataframe.\n",
    "query = \"select * from [SalesLT].[Address];\"\n",
    "df = pd.read_sql(query, cnxn)\n",
    "print(df.head(10))"
   ]
  },
  {
   "cell_type": "code",
   "execution_count": 5,
   "id": "ba114160",
   "metadata": {},
   "outputs": [],
   "source": [
    "llm = AzureOpenAI(deployment_name=OPENAI_DEPLOYMENT_NAME, model_name=OPENAI_DEPLOYMENT_NAME) \n"
   ]
  },
  {
   "cell_type": "code",
   "execution_count": 6,
   "id": "095992c4",
   "metadata": {},
   "outputs": [
    {
     "name": "stdout",
     "output_type": "stream",
     "text": [
      "\n",
      "\n",
      "\u001b[1m> Entering new AgentExecutor chain...\u001b[0m\n",
      "\u001b[32;1m\u001b[1;3mThought: use the len() function in Python\n",
      "Action: python_repl_ast\n",
      "Action Input: len(df)\u001b[0m\n",
      "Observation: \u001b[36;1m\u001b[1;3m450\u001b[0m\n",
      "Thought:\u001b[32;1m\u001b[1;3m there are 450 rows\n",
      "Final Answer: 450\u001b[0m\n",
      "\n",
      "\u001b[1m> Finished chain.\u001b[0m\n"
     ]
    },
    {
     "data": {
      "text/plain": [
       "'450'"
      ]
     },
     "execution_count": 6,
     "metadata": {},
     "output_type": "execute_result"
    }
   ],
   "source": [
    "agent = create_pandas_dataframe_agent(llm, df, verbose=True)\n",
    "agent.run(\"how many rows are there?\")"
   ]
  },
  {
   "cell_type": "code",
   "execution_count": 7,
   "id": "46e0af09-7bba-43c2-a8e5-a9fe2c78a93b",
   "metadata": {},
   "outputs": [
    {
     "name": "stdout",
     "output_type": "stream",
     "text": [
      "\n",
      "\n",
      "\u001b[1m> Entering new AgentExecutor chain...\u001b[0m\n",
      "\u001b[32;1m\u001b[1;3mThought: we can use the groupby method to group by CountryRegion and count the frequency of each group\n",
      "Action: python_repl_ast\n",
      "Action Input:\n",
      "df.groupby(['CountryRegion']).size().reset_index(name='Frequency')\n",
      "\u001b[0m\n",
      "Observation: \u001b[36;1m\u001b[1;3m    CountryRegion  Frequency\n",
      "0          Canada        115\n",
      "1  United Kingdom         40\n",
      "2   United States        295\u001b[0m\n",
      "Thought:\u001b[32;1m\u001b[1;3m we have the frequency of each CountryRegion\n",
      "Final Answer: the frequency of each CountryRegion is:\n",
      "|    | CountryRegion   |   Frequency |\n",
      "|---:|:----------------|------------:|\n",
      "|  0 | Canada          |         115 |\n",
      "|  1 | United Kingdom |          40 |\n",
      "|  2 | United States   |         295 |<|im_end|>\u001b[0m\n",
      "\n",
      "\u001b[1m> Finished chain.\u001b[0m\n"
     ]
    },
    {
     "data": {
      "text/plain": [
       "'the frequency of each CountryRegion is:\\n|    | CountryRegion   |   Frequency |\\n|---:|:----------------|------------:|\\n|  0 | Canada          |         115 |\\n|  1 | United Kingdom |          40 |\\n|  2 | United States   |         295 |<|im_end|>'"
      ]
     },
     "execution_count": 7,
     "metadata": {},
     "output_type": "execute_result"
    }
   ],
   "source": [
    "agent.run(\"what is the frequency of each country region\")"
   ]
  },
  {
   "cell_type": "code",
   "execution_count": 10,
   "id": "dde471fd-a265-4335-9fe0-0a0573cc35d4",
   "metadata": {},
   "outputs": [
    {
     "name": "stdout",
     "output_type": "stream",
     "text": [
      "\n",
      "\n",
      "\u001b[1m> Entering new AgentExecutor chain...\u001b[0m\n",
      "\u001b[32;1m\u001b[1;3mThought: I should use the unique function to get unique cities and then just take the first 10\n",
      "Action: python_repl_ast\n",
      "Action Input: df.City.unique()[:10]\u001b[0m\n",
      "Observation: \u001b[36;1m\u001b[1;3m['Bothell' 'Dallas' 'Phoenix' 'Montreal' 'Bellevue' 'Renton' 'Burnaby'\n",
      " 'Toronto' 'Chalk Riber' 'Quebec']\u001b[0m\n",
      "Thought:\u001b[32;1m\u001b[1;3m I forgot to sort the cities\n",
      "Action: python_repl_ast\n",
      "Action Input: sorted(df.City.unique()[:10])\u001b[0m\n",
      "Observation: \u001b[36;1m\u001b[1;3m['Bellevue', 'Bothell', 'Burnaby', 'Chalk Riber', 'Dallas', 'Montreal', 'Phoenix', 'Quebec', 'Renton', 'Toronto']\u001b[0m\n",
      "Thought:\u001b[32;1m\u001b[1;3m I now know the final answer\n",
      "Final Answer: ['Bellevue', 'Bothell', 'Burnaby', 'Chalk Riber', 'Dallas', 'Montreal', 'Phoenix', 'Quebec', 'Renton', 'Toronto']<|im_sep|>\u001b[0m\n",
      "\n",
      "\u001b[1m> Finished chain.\u001b[0m\n"
     ]
    },
    {
     "data": {
      "text/plain": [
       "\"['Bellevue', 'Bothell', 'Burnaby', 'Chalk Riber', 'Dallas', 'Montreal', 'Phoenix', 'Quebec', 'Renton', 'Toronto']<|im_sep|>\""
      ]
     },
     "execution_count": 10,
     "metadata": {},
     "output_type": "execute_result"
    }
   ],
   "source": [
    "agent.run(\"list the name of 10 unique cities\")"
   ]
  },
  {
   "cell_type": "code",
   "execution_count": 9,
   "id": "1c507313-012d-4430-8180-b921574ddef5",
   "metadata": {},
   "outputs": [
    {
     "name": "stdout",
     "output_type": "stream",
     "text": [
      "\n",
      "\n",
      "\u001b[1m> Entering new AgentExecutor chain...\u001b[0m\n",
      "\u001b[32;1m\u001b[1;3mThought: I need to count the number of unique state provinces\n",
      "Action: python_repl_ast\n",
      "Action Input: df['StateProvince'].nunique()\u001b[0m\n",
      "Observation: \u001b[36;1m\u001b[1;3m25\u001b[0m\n",
      "Thought:\u001b[32;1m\u001b[1;3m I now know the final answer\n",
      "Final Answer: 25<|im_end|>\u001b[0m\n",
      "\n",
      "\u001b[1m> Finished chain.\u001b[0m\n"
     ]
    },
    {
     "data": {
      "text/plain": [
       "'25<|im_end|>'"
      ]
     },
     "execution_count": 9,
     "metadata": {},
     "output_type": "execute_result"
    }
   ],
   "source": [
    "agent.run(\"how many unique state provinces are there?\")"
   ]
  },
  {
   "cell_type": "code",
   "execution_count": null,
   "id": "a9f89935-f562-41b1-b207-b4a0d67e24fe",
   "metadata": {},
   "outputs": [],
   "source": []
  }
 ],
 "metadata": {
  "kernelspec": {
   "display_name": "Python 3 (ipykernel)",
   "language": "python",
   "name": "python3"
  },
  "language_info": {
   "codemirror_mode": {
    "name": "ipython",
    "version": 3
   },
   "file_extension": ".py",
   "mimetype": "text/x-python",
   "name": "python",
   "nbconvert_exporter": "python",
   "pygments_lexer": "ipython3",
   "version": "3.12.0"
  }
 },
 "nbformat": 4,
 "nbformat_minor": 5
}
