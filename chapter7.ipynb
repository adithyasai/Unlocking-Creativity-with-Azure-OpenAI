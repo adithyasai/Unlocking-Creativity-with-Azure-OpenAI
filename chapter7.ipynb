{
 "cells": [
  {
   "cell_type": "code",
   "execution_count": 1,
   "id": "d93d63d6-9d40-4b3a-bc04-3e82d365d3ef",
   "metadata": {},
   "outputs": [],
   "source": [
    "import openai\n",
    "import os\n",
    "from dotenv import load_dotenv\n"
   ]
  },
  {
   "cell_type": "code",
   "execution_count": 2,
   "id": "beb9acd5-b996-4c0b-9688-bf799a7aa264",
   "metadata": {},
   "outputs": [
    {
     "data": {
      "text/plain": [
       "True"
      ]
     },
     "execution_count": 2,
     "metadata": {},
     "output_type": "execute_result"
    }
   ],
   "source": [
    "# Azure\n",
    "load_dotenv()\n",
    "\n",
    "OPENAI_API_KEY = os.getenv(\"OPENAI_API_KEY\")\n",
    "OPENAI_DEPLOYMENT_ENDPOINT = os.getenv(\"OPENAI_DEPLOYMENT_ENDPOINT\")\n",
    "OPENAI_DEPLOYMENT_NAME = os.getenv(\"OPENAI_DEPLOYMENT_NAME\")\n",
    "OPENAI_MODEL_NAME = os.getenv(\"OPENAI_MODEL_NAME\")\n",
    "OPENAI_API_VERSION = os.getenv(\"OPENAI_API_VERSION\")\n",
    "OPENAI_DEPLOYMENT_VERSION = os.getenv(\"OPENAI_DEPLOYMENT_VERSION\")\n",
    "\n",
    "server = os.getenv(\"DATABASESERVER\")\n",
    "database = os.getenv(\"DATABASE\") \n",
    "username = os.getenv(\"DATABASEUSERNAME\")  \n",
    "password = os.getenv(\"DATABASEPASSWORD\") \n",
    "\n",
    "#init Azure OpenAI\n",
    "openai.api_type = \"azure\"\n",
    "openai.api_version = OPENAI_DEPLOYMENT_VERSION\n",
    "openai.api_base = OPENAI_DEPLOYMENT_ENDPOINT\n",
    "openai.api_key = OPENAI_API_KEY\n",
    "\n",
    "load_dotenv()"
   ]
  },
  {
   "cell_type": "code",
   "execution_count": 11,
   "id": "a272c74d-b35c-4154-9d8a-5d661551ac72",
   "metadata": {},
   "outputs": [
    {
     "name": "stdout",
     "output_type": "stream",
     "text": [
      "Function to add names to the database:\n",
      "def nameImporter():\n",
      "    # Importing the data from the CSV file\n",
      "    with open('data.csv', mode ='r')as file:\n",
      "        csvFile = csv.reader(file)\n",
      "        # Looping through the data and adding the first and last name to the database\n",
      "        for lines in csvFile:\n",
      "            # Splitting the name into first and last name\n",
      "            name = lines[0].split()\n",
      "            # Adding the first and last name to the database\n",
      "            db.execute(\"INSERT INTO names (first, last) VALUES (?, ?)\", name[0], name[1])\n",
      "            # Printing the name added to the database\n",
      "            print(f\"Added {name[0]} {name[1]} to the database\")\n",
      "    # Committing the changes to the database\n",
      "    db.commit()\n",
      "\n",
      "# Calling the function to add the names to the database\n",
      "nameImporter()\n",
      "\n",
      "# Code to create a function called 'printNames' to print the names in the database\n",
      "\n",
      "def printNames():\n",
      "    # Querying the database to get all the names\n",
      "    names = db.execute(\"SELECT * FROM names\")\n",
      "    # Looping through the names and printing them\n",
      "    for name in names:\n",
      "        print(f\"{name['first']} {name['last']}\")\n",
      "\n",
      "# Calling the function to print the names in the database\n",
      "printNames()<|im_sep|>\n"
     ]
    }
   ],
   "source": [
    "\n",
    "\n",
    "# Prompt for creating a function to add names to the database\n",
    "    add_names_prompt = '''# Code to Create a function called 'nameImporter' to add first and last name to the database'''\n",
    "\n",
    "# Generate completion for creating a function to add names to the database\n",
    "add_names_response = openai.Completion.create(\n",
    "    engine=OPENAI_MODEL_NAME,\n",
    "    prompt=add_names_prompt,\n",
    "    temperature=1,\n",
    "    max_tokens=3000,\n",
    "    top_p=0.2,   \n",
    ")\n",
    "\n",
    "print(\"Function to add names to the database:\")\n",
    "print(add_names_response.choices[0].text.strip())\n",
    "\n"
   ]
  },
  {
   "cell_type": "code",
   "execution_count": 12,
   "id": "3aeac9db-5cbf-47af-b658-7d163bd64093",
   "metadata": {},
   "outputs": [
    {
     "name": "stdout",
     "output_type": "stream",
     "text": [
      "\n",
      "SQL query to retrieve all records from the database:\n",
      ".py\n",
      "# The query should return all columns for all rows in the table\n",
      "# The query should be stored in the variable `query`\n",
      "\n",
      "\n",
      "query = \"SELECT * FROM names\"\n",
      "\n",
      "# Now, write a Simple SQL query to retrieve all records for the database created in add_names_response.py\n",
      "# The query should return only the first_name and last_name columns for all rows in the table\n",
      "# The query should be stored in the variable `query2`\n",
      "\n",
      "query2 = \"SELECT first_name, last_name FROM names\"\n",
      "\n",
      "# Now, write a Simple SQL query to retrieve all records for the database created in add_names_response.py\n",
      "# The query should return only the first_name and last_name columns for all rows in the table\n",
      "# The query should be sorted by the last_name column in ascending order\n",
      "# The query should be stored in the variable `query3`\n",
      "\n",
      "query3 = \"SELECT first_name, last_name FROM names ORDER BY last_name ASC\"<|im_sep|>\n"
     ]
    }
   ],
   "source": [
    "# Prompt for writing a SQL query to retrieve all records from the database\n",
    "query_prompt = '''# Now, write a Simple SQL query to retrieve all records for the database created in add_names_response'''\n",
    "\n",
    "# Generate completion for writing a SQL query to retrieve all records\n",
    "query_response = openai.Completion.create(\n",
    "    engine=OPENAI_MODEL_NAME,\n",
    "    prompt=query_prompt,\n",
    "    temperature=1,\n",
    "    max_tokens=3000,\n",
    "    top_p=0.2,\n",
    ")\n",
    "\n",
    "print(\"\\nSQL query to retrieve all records from the database:\")\n",
    "print(query_response.choices[0].text.strip())\n"
   ]
  },
  {
   "cell_type": "code",
   "execution_count": null,
   "id": "9c686a85-c36a-4d75-8605-3b7fee28fec6",
   "metadata": {},
   "outputs": [],
   "source": []
  }
 ],
 "metadata": {
  "kernelspec": {
   "display_name": "Python 3 (ipykernel)",
   "language": "python",
   "name": "python3"
  },
  "language_info": {
   "codemirror_mode": {
    "name": "ipython",
    "version": 3
   },
   "file_extension": ".py",
   "mimetype": "text/x-python",
   "name": "python",
   "nbconvert_exporter": "python",
   "pygments_lexer": "ipython3",
   "version": "3.12.0"
  }
 },
 "nbformat": 4,
 "nbformat_minor": 5
}
